{
 "cells": [
  {
   "cell_type": "markdown",
   "metadata": {},
   "source": [
    "# Publications markdown generator for academicpages\n",
    "\n",
    "Takes a TSV of publications with metadata and converts them for use with [academicpages.github.io](academicpages.github.io). This is an interactive Jupyter notebook ([see more info here](http://jupyter-notebook-beginner-guide.readthedocs.io/en/latest/what_is_jupyter.html)). The core python code is also in `publications.py`. Run either from the `markdown_generator` folder after replacing `publications.tsv` with one containing your data.\n",
    "\n",
    "TODO: Make this work with BibTex and other databases of citations, rather than Stuart's non-standard TSV format and citation style.\n"
   ]
  },
  {
   "cell_type": "markdown",
   "metadata": {},
   "source": [
    "## Data format\n",
    "\n",
    "The TSV needs to have the following columns: pub_date, title, venue, excerpt, citation, site_url, and paper_url, with a header at the top. \n",
    "\n",
    "- `excerpt` and `paper_url` can be blank, but the others must have values. \n",
    "- `pub_date` must be formatted as YYYY-MM-DD.\n",
    "- `url_slug` will be the descriptive part of the .md file and the permalink URL for the page about the paper. The .md file will be `YYYY-MM-DD-[url_slug].md` and the permalink will be `https://[yourdomain]/publications/YYYY-MM-DD-[url_slug]`\n",
    "\n",
    "This is how the raw file looks (it doesn't look pretty, use a spreadsheet or other program to edit and create)."
   ]
  },
  {
   "cell_type": "code",
   "execution_count": 25,
   "metadata": {},
   "outputs": [
    {
     "name": "stdout",
     "output_type": "stream",
     "text": [
      "pub_date\ttitle\tvenue\texcerpt\tcitation\turl_slug\tpaper_url\r",
      "\r\n",
      "2020-07-13\tThe homotopy groups of the \\\\(\\eta\\\\)-periodic motivic sphere spectrum\tPacific Journal of Mathematics\tWe compute the homotopy groups of the \\\\(\\eta\\\\)-periodic motivic sphere spectrum over a field of finite cohomological dimension with characteristic not 2 and in which \\\\(-1\\\\) is a sum of four squares.\t\"Kyle Ormsby & Oliver R&ouml;ndigs. (2020) \"\"The homotopy groups of the \\\\(\\eta\\\\)-periodic motivic sphere spectrum.\"\" <i>Pacific Journal of Mathematics</i>. 306 (2) 679-697.\"\teta-periodic\thttp://kyleormsby.github.io/files/eta_periodic.pdf\r",
      "\r\n",
      "2000-07-14\tPaper Title Number 2\tJournal 1\tThis paper is about the number 2. The number 3 is left for future work.\t\"Your Name, You. (2010). \"\"Paper Title Number 2.\"\" <i>Journal 1</i>. 1(2).\"\tpaper-title-number-2\thttp://academicpages.github.io/files/paper2.pdf\r",
      "\r\n",
      "2000-07-15\tPaper Title Number 3\tJournal 1\tThis paper is about the number 3. The number 4 is left for future work.\t\"Your Name, You. (2015). \"\"Paper Title Number 3.\"\" <i>Journal 1</i>. 1(3).\"\tpaper-title-number-3\thttp://academicpages.github.io/files/paper3.pdf"
     ]
    }
   ],
   "source": [
    "!cat publications.tsv"
   ]
  },
  {
   "cell_type": "markdown",
   "metadata": {},
   "source": [
    "## Import pandas\n",
    "\n",
    "We are using the very handy pandas library for dataframes."
   ]
  },
  {
   "cell_type": "code",
   "execution_count": 26,
   "metadata": {},
   "outputs": [
    {
     "name": "stdout",
     "output_type": "stream",
     "text": [
      "Requirement already satisfied: pandas in /Users/transgression/.pyenv/versions/3.8.2/lib/python3.8/site-packages (1.2.4)\n",
      "Requirement already satisfied: numpy>=1.16.5 in /Users/transgression/.pyenv/versions/3.8.2/lib/python3.8/site-packages (from pandas) (1.18.4)\n",
      "Requirement already satisfied: python-dateutil>=2.7.3 in /Users/transgression/.pyenv/versions/3.8.2/lib/python3.8/site-packages (from pandas) (2.8.1)\n",
      "Requirement already satisfied: pytz>=2017.3 in /Users/transgression/.pyenv/versions/3.8.2/lib/python3.8/site-packages (from pandas) (2021.1)\n",
      "Requirement already satisfied: six>=1.5 in /Users/transgression/.pyenv/versions/3.8.2/lib/python3.8/site-packages (from python-dateutil>=2.7.3->pandas) (1.15.0)\n",
      "\u001b[33mWARNING: You are using pip version 20.1.1; however, version 21.1.2 is available.\n",
      "You should consider upgrading via the '/Users/transgression/.pyenv/versions/3.8.2/bin/python3.8 -m pip install --upgrade pip' command.\u001b[0m\n"
     ]
    }
   ],
   "source": [
    "!pip install pandas\n",
    "import pandas as pd"
   ]
  },
  {
   "cell_type": "markdown",
   "metadata": {},
   "source": [
    "## Import TSV\n",
    "\n",
    "Pandas makes this easy with the read_csv function. We are using a TSV, so we specify the separator as a tab, or `\\t`.\n",
    "\n",
    "I found it important to put this data in a tab-separated values format, because there are a lot of commas in this kind of data and comma-separated values can get messed up. However, you can modify the import statement, as pandas also has read_excel(), read_json(), and others."
   ]
  },
  {
   "cell_type": "code",
   "execution_count": 27,
   "metadata": {},
   "outputs": [
    {
     "data": {
      "text/html": [
       "<div>\n",
       "<style scoped>\n",
       "    .dataframe tbody tr th:only-of-type {\n",
       "        vertical-align: middle;\n",
       "    }\n",
       "\n",
       "    .dataframe tbody tr th {\n",
       "        vertical-align: top;\n",
       "    }\n",
       "\n",
       "    .dataframe thead th {\n",
       "        text-align: right;\n",
       "    }\n",
       "</style>\n",
       "<table border=\"1\" class=\"dataframe\">\n",
       "  <thead>\n",
       "    <tr style=\"text-align: right;\">\n",
       "      <th></th>\n",
       "      <th>pub_date</th>\n",
       "      <th>title</th>\n",
       "      <th>venue</th>\n",
       "      <th>excerpt</th>\n",
       "      <th>citation</th>\n",
       "      <th>url_slug</th>\n",
       "      <th>paper_url</th>\n",
       "    </tr>\n",
       "  </thead>\n",
       "  <tbody>\n",
       "    <tr>\n",
       "      <th>0</th>\n",
       "      <td>2020-07-13</td>\n",
       "      <td>The homotopy groups of the \\\\(\\eta\\\\)-periodic...</td>\n",
       "      <td>Pacific Journal of Mathematics</td>\n",
       "      <td>We compute the homotopy groups of the \\\\(\\eta\\...</td>\n",
       "      <td>Kyle Ormsby &amp; Oliver R&amp;ouml;ndigs. (2020) \"The...</td>\n",
       "      <td>eta-periodic</td>\n",
       "      <td>http://kyleormsby.github.io/files/eta_periodic...</td>\n",
       "    </tr>\n",
       "    <tr>\n",
       "      <th>1</th>\n",
       "      <td>2000-07-14</td>\n",
       "      <td>Paper Title Number 2</td>\n",
       "      <td>Journal 1</td>\n",
       "      <td>This paper is about the number 2. The number 3...</td>\n",
       "      <td>Your Name, You. (2010). \"Paper Title Number 2....</td>\n",
       "      <td>paper-title-number-2</td>\n",
       "      <td>http://academicpages.github.io/files/paper2.pdf</td>\n",
       "    </tr>\n",
       "    <tr>\n",
       "      <th>2</th>\n",
       "      <td>2000-07-15</td>\n",
       "      <td>Paper Title Number 3</td>\n",
       "      <td>Journal 1</td>\n",
       "      <td>This paper is about the number 3. The number 4...</td>\n",
       "      <td>Your Name, You. (2015). \"Paper Title Number 3....</td>\n",
       "      <td>paper-title-number-3</td>\n",
       "      <td>http://academicpages.github.io/files/paper3.pdf</td>\n",
       "    </tr>\n",
       "  </tbody>\n",
       "</table>\n",
       "</div>"
      ],
      "text/plain": [
       "     pub_date                                              title  \\\n",
       "0  2020-07-13  The homotopy groups of the \\\\(\\eta\\\\)-periodic...   \n",
       "1  2000-07-14                               Paper Title Number 2   \n",
       "2  2000-07-15                               Paper Title Number 3   \n",
       "\n",
       "                            venue  \\\n",
       "0  Pacific Journal of Mathematics   \n",
       "1                       Journal 1   \n",
       "2                       Journal 1   \n",
       "\n",
       "                                             excerpt  \\\n",
       "0  We compute the homotopy groups of the \\\\(\\eta\\...   \n",
       "1  This paper is about the number 2. The number 3...   \n",
       "2  This paper is about the number 3. The number 4...   \n",
       "\n",
       "                                            citation              url_slug  \\\n",
       "0  Kyle Ormsby & Oliver R&ouml;ndigs. (2020) \"The...          eta-periodic   \n",
       "1  Your Name, You. (2010). \"Paper Title Number 2....  paper-title-number-2   \n",
       "2  Your Name, You. (2015). \"Paper Title Number 3....  paper-title-number-3   \n",
       "\n",
       "                                           paper_url  \n",
       "0  http://kyleormsby.github.io/files/eta_periodic...  \n",
       "1    http://academicpages.github.io/files/paper2.pdf  \n",
       "2    http://academicpages.github.io/files/paper3.pdf  "
      ]
     },
     "execution_count": 27,
     "metadata": {},
     "output_type": "execute_result"
    }
   ],
   "source": [
    "publications = pd.read_csv(\"publications.tsv\", sep=\"\\t\", header=0)\n",
    "publications\n"
   ]
  },
  {
   "cell_type": "markdown",
   "metadata": {},
   "source": [
    "## Escape special characters\n",
    "\n",
    "YAML is very picky about how it takes a valid string, so we are replacing single and double quotes (and ampersands) with their HTML encoded equivilents. This makes them look not so readable in raw format, but they are parsed and rendered nicely."
   ]
  },
  {
   "cell_type": "code",
   "execution_count": 28,
   "metadata": {},
   "outputs": [],
   "source": [
    "html_escape_table = {\n",
    "    \"&\": \"&amp;\",\n",
    "    '\"': \"&quot;\",\n",
    "    \"'\": \"&apos;\"\n",
    "    }\n",
    "\n",
    "def html_escape(text):\n",
    "    \"\"\"Produce entities within text.\"\"\"\n",
    "    return \"\".join(html_escape_table.get(c,c) for c in text)"
   ]
  },
  {
   "cell_type": "markdown",
   "metadata": {},
   "source": [
    "## Creating the markdown files\n",
    "\n",
    "This is where the heavy lifting is done. This loops through all the rows in the TSV dataframe, then starts to concatentate a big string (```md```) that contains the markdown for each type. It does the YAML metadata first, then does the description for the individual page."
   ]
  },
  {
   "cell_type": "code",
   "execution_count": 29,
   "metadata": {},
   "outputs": [],
   "source": [
    "import os\n",
    "for row, item in publications.iterrows():\n",
    "    \n",
    "    md_filename = str(item.pub_date) + \"-\" + item.url_slug + \".md\"\n",
    "    html_filename = str(item.pub_date) + \"-\" + item.url_slug\n",
    "    year = item.pub_date[:4]\n",
    "    \n",
    "    ## YAML variables\n",
    "    \n",
    "    md = \"---\\ntitle: \\\"\"   + item.title + '\"\\n'\n",
    "    \n",
    "    md += \"\"\"collection: publications\"\"\"\n",
    "    \n",
    "    md += \"\"\"\\npermalink: /publication/\"\"\" + html_filename\n",
    "    \n",
    "    if len(str(item.excerpt)) > 5:\n",
    "        md += \"\\nexcerpt: '\" + html_escape(item.excerpt) + \"'\"\n",
    "    \n",
    "    md += \"\\ndate: \" + str(item.pub_date) \n",
    "    \n",
    "    md += \"\\nvenue: '\" + html_escape(item.venue) + \"'\"\n",
    "    \n",
    "    if len(str(item.paper_url)) > 5:\n",
    "        md += \"\\npaperurl: '\" + item.paper_url + \"'\"\n",
    "    \n",
    "    md += \"\\ncitation: '\" + html_escape(item.citation) + \"'\"\n",
    "    \n",
    "    md += \"\\n---\"\n",
    "    \n",
    "    ## Markdown description for individual page\n",
    "        \n",
    "    if len(str(item.excerpt)) > 5:\n",
    "        md += \"\\n\" + html_escape(item.excerpt) + \"\\n\"\n",
    "    \n",
    "    if len(str(item.paper_url)) > 5:\n",
    "        md += \"\\n[Download paper here](\" + item.paper_url + \")\\n\" \n",
    "        \n",
    "    md += \"\\nRecommended citation: \" + item.citation\n",
    "    \n",
    "    md_filename = os.path.basename(md_filename)\n",
    "       \n",
    "    with open(\"../_publications/\" + md_filename, 'w') as f:\n",
    "        f.write(md)"
   ]
  },
  {
   "cell_type": "markdown",
   "metadata": {},
   "source": [
    "These files are in the publications directory, one directory below where we're working from."
   ]
  },
  {
   "cell_type": "code",
   "execution_count": 30,
   "metadata": {},
   "outputs": [
    {
     "name": "stdout",
     "output_type": "stream",
     "text": [
      "2000-07-14-paper-title-number-2.md 2020-07-14-paper-title-number-2.md\r\n",
      "2000-07-15-paper-title-number-3.md 2020-07-15-paper-title-number-3.md\r\n",
      "2020-07-13-eta-periodic.md\r\n"
     ]
    }
   ],
   "source": [
    "!ls ../_publications/"
   ]
  },
  {
   "cell_type": "code",
   "execution_count": 19,
   "metadata": {},
   "outputs": [
    {
     "name": "stdout",
     "output_type": "stream",
     "text": [
      "---\r\n",
      "title: \"The homotopy groups of the \\\\(\\eta\\\\)-periodic motivic sphere spectrum\"\r\n",
      "collection: publications\r\n",
      "permalink: /publication/7/13/20-eta-periodic\r\n",
      "excerpt: 'We compute the homotopy groups of the \\\\(\\eta\\\\)-periodic motivic sphere spectrum over a field of finite cohomological dimension with characteristic not 2 and in which \\\\(-1\\\\) is a sum of four squares.'\r\n",
      "date: 7/13/20\r\n",
      "venue: 'Pacific Journal of Mathematics'\r\n",
      "paperurl: 'http://kyleormsby.github.io/files/eta_periodic.pdf'\r\n",
      "citation: 'Kyle Ormsby &amp; Oliver R&amp;ouml;ndigs. (2020) &quot;The homotopy groups of the \\\\(\\eta\\\\)-periodic motivic sphere spectrum.&quot; <i>Pacific Journal of Mathematics</i>. 306 (2) 679-697.'\r\n",
      "---\r\n",
      "We compute the homotopy groups of the \\\\(\\eta\\\\)-periodic motivic sphere spectrum over a field of finite cohomological dimension with characteristic not 2 and in which \\\\(-1\\\\) is a sum of four squares.\r\n",
      "\r\n",
      "[Download paper here](http://kyleormsby.github.io/files/eta_periodic.pdf)\r\n",
      "\r\n",
      "Recommended citation: Kyle Ormsby & Oliver R&ouml;ndigs. (2020) \"The homotopy groups of the \\\\(\\eta\\\\)-periodic motivic sphere spectrum.\" <i>Pacific Journal of Mathematics</i>. 306 (2) 679-697."
     ]
    }
   ],
   "source": [
    "!cat ../_publications/20-eta-periodic.md"
   ]
  },
  {
   "cell_type": "code",
   "execution_count": null,
   "metadata": {
    "collapsed": true
   },
   "outputs": [],
   "source": []
  }
 ],
 "metadata": {
  "kernelspec": {
   "display_name": "Python 3",
   "language": "python",
   "name": "python3"
  },
  "language_info": {
   "codemirror_mode": {
    "name": "ipython",
    "version": 3
   },
   "file_extension": ".py",
   "mimetype": "text/x-python",
   "name": "python",
   "nbconvert_exporter": "python",
   "pygments_lexer": "ipython3",
   "version": "3.8.2"
  }
 },
 "nbformat": 4,
 "nbformat_minor": 1
}
